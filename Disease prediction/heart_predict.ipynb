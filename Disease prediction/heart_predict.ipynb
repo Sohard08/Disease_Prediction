{
  "cells": [
    {
      "cell_type": "markdown",
      "metadata": {},
      "source": [
        "IMPORTING LIBRARIES"
      ]
    },
    {
      "cell_type": "code",
      "execution_count": 1,
      "metadata": {
        "id": "pVWIyevh5-2W"
      },
      "outputs": [],
      "source": [
        "import numpy as np\n",
        "import pandas as pd\n",
        "from sklearn.metrics import accuracy_score\n",
        "from sklearn.model_selection import train_test_split\n",
        "import matplotlib.pyplot as plt"
      ]
    },
    {
      "cell_type": "markdown",
      "metadata": {},
      "source": [
        "DATA COLLECTION"
      ]
    },
    {
      "cell_type": "code",
      "execution_count": 2,
      "metadata": {
        "id": "BTaiXS7X6yXO"
      },
      "outputs": [],
      "source": [
        "df=pd.read_csv(\"D:\\Projects\\Disease prediction\\heart_dataset.csv\")"
      ]
    },
    {
      "cell_type": "code",
      "execution_count": 3,
      "metadata": {
        "colab": {
          "base_uri": "https://localhost:8080/",
          "height": 206
        },
        "id": "V4ngEqKW697u",
        "outputId": "83868e90-25b1-4c86-c4f4-37b41bd3b3d0"
      },
      "outputs": [
        {
          "data": {
            "text/html": [
              "<div>\n",
              "<style scoped>\n",
              "    .dataframe tbody tr th:only-of-type {\n",
              "        vertical-align: middle;\n",
              "    }\n",
              "\n",
              "    .dataframe tbody tr th {\n",
              "        vertical-align: top;\n",
              "    }\n",
              "\n",
              "    .dataframe thead th {\n",
              "        text-align: right;\n",
              "    }\n",
              "</style>\n",
              "<table border=\"1\" class=\"dataframe\">\n",
              "  <thead>\n",
              "    <tr style=\"text-align: right;\">\n",
              "      <th></th>\n",
              "      <th>age</th>\n",
              "      <th>sex</th>\n",
              "      <th>cp</th>\n",
              "      <th>trestbps</th>\n",
              "      <th>chol</th>\n",
              "      <th>fbs</th>\n",
              "      <th>restecg</th>\n",
              "      <th>thalach</th>\n",
              "      <th>exang</th>\n",
              "      <th>oldpeak</th>\n",
              "      <th>slope</th>\n",
              "      <th>ca</th>\n",
              "      <th>thal</th>\n",
              "      <th>target</th>\n",
              "    </tr>\n",
              "  </thead>\n",
              "  <tbody>\n",
              "    <tr>\n",
              "      <th>0</th>\n",
              "      <td>52</td>\n",
              "      <td>1</td>\n",
              "      <td>0</td>\n",
              "      <td>125</td>\n",
              "      <td>212</td>\n",
              "      <td>0</td>\n",
              "      <td>1</td>\n",
              "      <td>168</td>\n",
              "      <td>0</td>\n",
              "      <td>1.0</td>\n",
              "      <td>2</td>\n",
              "      <td>2</td>\n",
              "      <td>3</td>\n",
              "      <td>0</td>\n",
              "    </tr>\n",
              "    <tr>\n",
              "      <th>1</th>\n",
              "      <td>53</td>\n",
              "      <td>1</td>\n",
              "      <td>0</td>\n",
              "      <td>140</td>\n",
              "      <td>203</td>\n",
              "      <td>1</td>\n",
              "      <td>0</td>\n",
              "      <td>155</td>\n",
              "      <td>1</td>\n",
              "      <td>3.1</td>\n",
              "      <td>0</td>\n",
              "      <td>0</td>\n",
              "      <td>3</td>\n",
              "      <td>0</td>\n",
              "    </tr>\n",
              "    <tr>\n",
              "      <th>2</th>\n",
              "      <td>70</td>\n",
              "      <td>1</td>\n",
              "      <td>0</td>\n",
              "      <td>145</td>\n",
              "      <td>174</td>\n",
              "      <td>0</td>\n",
              "      <td>1</td>\n",
              "      <td>125</td>\n",
              "      <td>1</td>\n",
              "      <td>2.6</td>\n",
              "      <td>0</td>\n",
              "      <td>0</td>\n",
              "      <td>3</td>\n",
              "      <td>0</td>\n",
              "    </tr>\n",
              "    <tr>\n",
              "      <th>3</th>\n",
              "      <td>61</td>\n",
              "      <td>1</td>\n",
              "      <td>0</td>\n",
              "      <td>148</td>\n",
              "      <td>203</td>\n",
              "      <td>0</td>\n",
              "      <td>1</td>\n",
              "      <td>161</td>\n",
              "      <td>0</td>\n",
              "      <td>0.0</td>\n",
              "      <td>2</td>\n",
              "      <td>1</td>\n",
              "      <td>3</td>\n",
              "      <td>0</td>\n",
              "    </tr>\n",
              "    <tr>\n",
              "      <th>4</th>\n",
              "      <td>62</td>\n",
              "      <td>0</td>\n",
              "      <td>0</td>\n",
              "      <td>138</td>\n",
              "      <td>294</td>\n",
              "      <td>1</td>\n",
              "      <td>1</td>\n",
              "      <td>106</td>\n",
              "      <td>0</td>\n",
              "      <td>1.9</td>\n",
              "      <td>1</td>\n",
              "      <td>3</td>\n",
              "      <td>2</td>\n",
              "      <td>0</td>\n",
              "    </tr>\n",
              "  </tbody>\n",
              "</table>\n",
              "</div>"
            ],
            "text/plain": [
              "   age  sex  cp  trestbps  chol  fbs  restecg  thalach  exang  oldpeak  slope  \\\n",
              "0   52    1   0       125   212    0        1      168      0      1.0      2   \n",
              "1   53    1   0       140   203    1        0      155      1      3.1      0   \n",
              "2   70    1   0       145   174    0        1      125      1      2.6      0   \n",
              "3   61    1   0       148   203    0        1      161      0      0.0      2   \n",
              "4   62    0   0       138   294    1        1      106      0      1.9      1   \n",
              "\n",
              "   ca  thal  target  \n",
              "0   2     3       0  \n",
              "1   0     3       0  \n",
              "2   0     3       0  \n",
              "3   1     3       0  \n",
              "4   3     2       0  "
            ]
          },
          "execution_count": 3,
          "metadata": {},
          "output_type": "execute_result"
        }
      ],
      "source": [
        "df.head()"
      ]
    },
    {
      "cell_type": "code",
      "execution_count": 4,
      "metadata": {
        "colab": {
          "base_uri": "https://localhost:8080/",
          "height": 206
        },
        "id": "cC5hHWfE7A08",
        "outputId": "46e37830-29a3-408a-a22d-20cd84d0712a"
      },
      "outputs": [
        {
          "data": {
            "text/html": [
              "<div>\n",
              "<style scoped>\n",
              "    .dataframe tbody tr th:only-of-type {\n",
              "        vertical-align: middle;\n",
              "    }\n",
              "\n",
              "    .dataframe tbody tr th {\n",
              "        vertical-align: top;\n",
              "    }\n",
              "\n",
              "    .dataframe thead th {\n",
              "        text-align: right;\n",
              "    }\n",
              "</style>\n",
              "<table border=\"1\" class=\"dataframe\">\n",
              "  <thead>\n",
              "    <tr style=\"text-align: right;\">\n",
              "      <th></th>\n",
              "      <th>age</th>\n",
              "      <th>sex</th>\n",
              "      <th>cp</th>\n",
              "      <th>trestbps</th>\n",
              "      <th>chol</th>\n",
              "      <th>fbs</th>\n",
              "      <th>restecg</th>\n",
              "      <th>thalach</th>\n",
              "      <th>exang</th>\n",
              "      <th>oldpeak</th>\n",
              "      <th>slope</th>\n",
              "      <th>ca</th>\n",
              "      <th>thal</th>\n",
              "      <th>target</th>\n",
              "    </tr>\n",
              "  </thead>\n",
              "  <tbody>\n",
              "    <tr>\n",
              "      <th>1020</th>\n",
              "      <td>59</td>\n",
              "      <td>1</td>\n",
              "      <td>1</td>\n",
              "      <td>140</td>\n",
              "      <td>221</td>\n",
              "      <td>0</td>\n",
              "      <td>1</td>\n",
              "      <td>164</td>\n",
              "      <td>1</td>\n",
              "      <td>0.0</td>\n",
              "      <td>2</td>\n",
              "      <td>0</td>\n",
              "      <td>2</td>\n",
              "      <td>1</td>\n",
              "    </tr>\n",
              "    <tr>\n",
              "      <th>1021</th>\n",
              "      <td>60</td>\n",
              "      <td>1</td>\n",
              "      <td>0</td>\n",
              "      <td>125</td>\n",
              "      <td>258</td>\n",
              "      <td>0</td>\n",
              "      <td>0</td>\n",
              "      <td>141</td>\n",
              "      <td>1</td>\n",
              "      <td>2.8</td>\n",
              "      <td>1</td>\n",
              "      <td>1</td>\n",
              "      <td>3</td>\n",
              "      <td>0</td>\n",
              "    </tr>\n",
              "    <tr>\n",
              "      <th>1022</th>\n",
              "      <td>47</td>\n",
              "      <td>1</td>\n",
              "      <td>0</td>\n",
              "      <td>110</td>\n",
              "      <td>275</td>\n",
              "      <td>0</td>\n",
              "      <td>0</td>\n",
              "      <td>118</td>\n",
              "      <td>1</td>\n",
              "      <td>1.0</td>\n",
              "      <td>1</td>\n",
              "      <td>1</td>\n",
              "      <td>2</td>\n",
              "      <td>0</td>\n",
              "    </tr>\n",
              "    <tr>\n",
              "      <th>1023</th>\n",
              "      <td>50</td>\n",
              "      <td>0</td>\n",
              "      <td>0</td>\n",
              "      <td>110</td>\n",
              "      <td>254</td>\n",
              "      <td>0</td>\n",
              "      <td>0</td>\n",
              "      <td>159</td>\n",
              "      <td>0</td>\n",
              "      <td>0.0</td>\n",
              "      <td>2</td>\n",
              "      <td>0</td>\n",
              "      <td>2</td>\n",
              "      <td>1</td>\n",
              "    </tr>\n",
              "    <tr>\n",
              "      <th>1024</th>\n",
              "      <td>54</td>\n",
              "      <td>1</td>\n",
              "      <td>0</td>\n",
              "      <td>120</td>\n",
              "      <td>188</td>\n",
              "      <td>0</td>\n",
              "      <td>1</td>\n",
              "      <td>113</td>\n",
              "      <td>0</td>\n",
              "      <td>1.4</td>\n",
              "      <td>1</td>\n",
              "      <td>1</td>\n",
              "      <td>3</td>\n",
              "      <td>0</td>\n",
              "    </tr>\n",
              "  </tbody>\n",
              "</table>\n",
              "</div>"
            ],
            "text/plain": [
              "      age  sex  cp  trestbps  chol  fbs  restecg  thalach  exang  oldpeak  \\\n",
              "1020   59    1   1       140   221    0        1      164      1      0.0   \n",
              "1021   60    1   0       125   258    0        0      141      1      2.8   \n",
              "1022   47    1   0       110   275    0        0      118      1      1.0   \n",
              "1023   50    0   0       110   254    0        0      159      0      0.0   \n",
              "1024   54    1   0       120   188    0        1      113      0      1.4   \n",
              "\n",
              "      slope  ca  thal  target  \n",
              "1020      2   0     2       1  \n",
              "1021      1   1     3       0  \n",
              "1022      1   1     2       0  \n",
              "1023      2   0     2       1  \n",
              "1024      1   1     3       0  "
            ]
          },
          "execution_count": 4,
          "metadata": {},
          "output_type": "execute_result"
        }
      ],
      "source": [
        "df.tail()"
      ]
    },
    {
      "cell_type": "code",
      "execution_count": 5,
      "metadata": {
        "colab": {
          "base_uri": "https://localhost:8080/"
        },
        "id": "-2QpIiZ57QH4",
        "outputId": "5f101891-4a97-4aee-e7a7-30b283e74ac1"
      },
      "outputs": [
        {
          "data": {
            "text/plain": [
              "(1025, 14)"
            ]
          },
          "execution_count": 5,
          "metadata": {},
          "output_type": "execute_result"
        }
      ],
      "source": [
        "df.shape"
      ]
    },
    {
      "cell_type": "code",
      "execution_count": 6,
      "metadata": {
        "colab": {
          "base_uri": "https://localhost:8080/"
        },
        "id": "4vGsRcSz8ZrA",
        "outputId": "5f0f300b-3a7d-4e09-fa43-e2349a8aefae"
      },
      "outputs": [
        {
          "name": "stdout",
          "output_type": "stream",
          "text": [
            "<class 'pandas.core.frame.DataFrame'>\n",
            "RangeIndex: 1025 entries, 0 to 1024\n",
            "Data columns (total 14 columns):\n",
            " #   Column    Non-Null Count  Dtype  \n",
            "---  ------    --------------  -----  \n",
            " 0   age       1025 non-null   int64  \n",
            " 1   sex       1025 non-null   int64  \n",
            " 2   cp        1025 non-null   int64  \n",
            " 3   trestbps  1025 non-null   int64  \n",
            " 4   chol      1025 non-null   int64  \n",
            " 5   fbs       1025 non-null   int64  \n",
            " 6   restecg   1025 non-null   int64  \n",
            " 7   thalach   1025 non-null   int64  \n",
            " 8   exang     1025 non-null   int64  \n",
            " 9   oldpeak   1025 non-null   float64\n",
            " 10  slope     1025 non-null   int64  \n",
            " 11  ca        1025 non-null   int64  \n",
            " 12  thal      1025 non-null   int64  \n",
            " 13  target    1025 non-null   int64  \n",
            "dtypes: float64(1), int64(13)\n",
            "memory usage: 112.2 KB\n"
          ]
        }
      ],
      "source": [
        "df.info()"
      ]
    },
    {
      "cell_type": "code",
      "execution_count": 7,
      "metadata": {
        "colab": {
          "base_uri": "https://localhost:8080/"
        },
        "id": "MV8HJvv38eFY",
        "outputId": "0578a2dd-32ad-4e1d-e45d-a462fc831caa"
      },
      "outputs": [
        {
          "data": {
            "text/plain": [
              "age         0\n",
              "sex         0\n",
              "cp          0\n",
              "trestbps    0\n",
              "chol        0\n",
              "fbs         0\n",
              "restecg     0\n",
              "thalach     0\n",
              "exang       0\n",
              "oldpeak     0\n",
              "slope       0\n",
              "ca          0\n",
              "thal        0\n",
              "target      0\n",
              "dtype: int64"
            ]
          },
          "execution_count": 7,
          "metadata": {},
          "output_type": "execute_result"
        }
      ],
      "source": [
        "df.isnull().sum()"
      ]
    },
    {
      "cell_type": "code",
      "execution_count": 8,
      "metadata": {
        "colab": {
          "base_uri": "https://localhost:8080/",
          "height": 364
        },
        "id": "nZTFQ5Tq8h5Y",
        "outputId": "beab4cc1-e173-4ac1-8120-22e02c1a19e2"
      },
      "outputs": [
        {
          "data": {
            "text/html": [
              "<div>\n",
              "<style scoped>\n",
              "    .dataframe tbody tr th:only-of-type {\n",
              "        vertical-align: middle;\n",
              "    }\n",
              "\n",
              "    .dataframe tbody tr th {\n",
              "        vertical-align: top;\n",
              "    }\n",
              "\n",
              "    .dataframe thead th {\n",
              "        text-align: right;\n",
              "    }\n",
              "</style>\n",
              "<table border=\"1\" class=\"dataframe\">\n",
              "  <thead>\n",
              "    <tr style=\"text-align: right;\">\n",
              "      <th></th>\n",
              "      <th>age</th>\n",
              "      <th>sex</th>\n",
              "      <th>cp</th>\n",
              "      <th>trestbps</th>\n",
              "      <th>chol</th>\n",
              "      <th>fbs</th>\n",
              "      <th>restecg</th>\n",
              "      <th>thalach</th>\n",
              "      <th>exang</th>\n",
              "      <th>oldpeak</th>\n",
              "      <th>slope</th>\n",
              "      <th>ca</th>\n",
              "      <th>thal</th>\n",
              "      <th>target</th>\n",
              "    </tr>\n",
              "  </thead>\n",
              "  <tbody>\n",
              "    <tr>\n",
              "      <th>count</th>\n",
              "      <td>1025.000000</td>\n",
              "      <td>1025.000000</td>\n",
              "      <td>1025.000000</td>\n",
              "      <td>1025.000000</td>\n",
              "      <td>1025.00000</td>\n",
              "      <td>1025.000000</td>\n",
              "      <td>1025.000000</td>\n",
              "      <td>1025.000000</td>\n",
              "      <td>1025.000000</td>\n",
              "      <td>1025.000000</td>\n",
              "      <td>1025.000000</td>\n",
              "      <td>1025.000000</td>\n",
              "      <td>1025.000000</td>\n",
              "      <td>1025.000000</td>\n",
              "    </tr>\n",
              "    <tr>\n",
              "      <th>mean</th>\n",
              "      <td>54.434146</td>\n",
              "      <td>0.695610</td>\n",
              "      <td>0.942439</td>\n",
              "      <td>131.611707</td>\n",
              "      <td>246.00000</td>\n",
              "      <td>0.149268</td>\n",
              "      <td>0.529756</td>\n",
              "      <td>149.114146</td>\n",
              "      <td>0.336585</td>\n",
              "      <td>1.071512</td>\n",
              "      <td>1.385366</td>\n",
              "      <td>0.754146</td>\n",
              "      <td>2.323902</td>\n",
              "      <td>0.513171</td>\n",
              "    </tr>\n",
              "    <tr>\n",
              "      <th>std</th>\n",
              "      <td>9.072290</td>\n",
              "      <td>0.460373</td>\n",
              "      <td>1.029641</td>\n",
              "      <td>17.516718</td>\n",
              "      <td>51.59251</td>\n",
              "      <td>0.356527</td>\n",
              "      <td>0.527878</td>\n",
              "      <td>23.005724</td>\n",
              "      <td>0.472772</td>\n",
              "      <td>1.175053</td>\n",
              "      <td>0.617755</td>\n",
              "      <td>1.030798</td>\n",
              "      <td>0.620660</td>\n",
              "      <td>0.500070</td>\n",
              "    </tr>\n",
              "    <tr>\n",
              "      <th>min</th>\n",
              "      <td>29.000000</td>\n",
              "      <td>0.000000</td>\n",
              "      <td>0.000000</td>\n",
              "      <td>94.000000</td>\n",
              "      <td>126.00000</td>\n",
              "      <td>0.000000</td>\n",
              "      <td>0.000000</td>\n",
              "      <td>71.000000</td>\n",
              "      <td>0.000000</td>\n",
              "      <td>0.000000</td>\n",
              "      <td>0.000000</td>\n",
              "      <td>0.000000</td>\n",
              "      <td>0.000000</td>\n",
              "      <td>0.000000</td>\n",
              "    </tr>\n",
              "    <tr>\n",
              "      <th>25%</th>\n",
              "      <td>48.000000</td>\n",
              "      <td>0.000000</td>\n",
              "      <td>0.000000</td>\n",
              "      <td>120.000000</td>\n",
              "      <td>211.00000</td>\n",
              "      <td>0.000000</td>\n",
              "      <td>0.000000</td>\n",
              "      <td>132.000000</td>\n",
              "      <td>0.000000</td>\n",
              "      <td>0.000000</td>\n",
              "      <td>1.000000</td>\n",
              "      <td>0.000000</td>\n",
              "      <td>2.000000</td>\n",
              "      <td>0.000000</td>\n",
              "    </tr>\n",
              "    <tr>\n",
              "      <th>50%</th>\n",
              "      <td>56.000000</td>\n",
              "      <td>1.000000</td>\n",
              "      <td>1.000000</td>\n",
              "      <td>130.000000</td>\n",
              "      <td>240.00000</td>\n",
              "      <td>0.000000</td>\n",
              "      <td>1.000000</td>\n",
              "      <td>152.000000</td>\n",
              "      <td>0.000000</td>\n",
              "      <td>0.800000</td>\n",
              "      <td>1.000000</td>\n",
              "      <td>0.000000</td>\n",
              "      <td>2.000000</td>\n",
              "      <td>1.000000</td>\n",
              "    </tr>\n",
              "    <tr>\n",
              "      <th>75%</th>\n",
              "      <td>61.000000</td>\n",
              "      <td>1.000000</td>\n",
              "      <td>2.000000</td>\n",
              "      <td>140.000000</td>\n",
              "      <td>275.00000</td>\n",
              "      <td>0.000000</td>\n",
              "      <td>1.000000</td>\n",
              "      <td>166.000000</td>\n",
              "      <td>1.000000</td>\n",
              "      <td>1.800000</td>\n",
              "      <td>2.000000</td>\n",
              "      <td>1.000000</td>\n",
              "      <td>3.000000</td>\n",
              "      <td>1.000000</td>\n",
              "    </tr>\n",
              "    <tr>\n",
              "      <th>max</th>\n",
              "      <td>77.000000</td>\n",
              "      <td>1.000000</td>\n",
              "      <td>3.000000</td>\n",
              "      <td>200.000000</td>\n",
              "      <td>564.00000</td>\n",
              "      <td>1.000000</td>\n",
              "      <td>2.000000</td>\n",
              "      <td>202.000000</td>\n",
              "      <td>1.000000</td>\n",
              "      <td>6.200000</td>\n",
              "      <td>2.000000</td>\n",
              "      <td>4.000000</td>\n",
              "      <td>3.000000</td>\n",
              "      <td>1.000000</td>\n",
              "    </tr>\n",
              "  </tbody>\n",
              "</table>\n",
              "</div>"
            ],
            "text/plain": [
              "               age          sex           cp     trestbps        chol  \\\n",
              "count  1025.000000  1025.000000  1025.000000  1025.000000  1025.00000   \n",
              "mean     54.434146     0.695610     0.942439   131.611707   246.00000   \n",
              "std       9.072290     0.460373     1.029641    17.516718    51.59251   \n",
              "min      29.000000     0.000000     0.000000    94.000000   126.00000   \n",
              "25%      48.000000     0.000000     0.000000   120.000000   211.00000   \n",
              "50%      56.000000     1.000000     1.000000   130.000000   240.00000   \n",
              "75%      61.000000     1.000000     2.000000   140.000000   275.00000   \n",
              "max      77.000000     1.000000     3.000000   200.000000   564.00000   \n",
              "\n",
              "               fbs      restecg      thalach        exang      oldpeak  \\\n",
              "count  1025.000000  1025.000000  1025.000000  1025.000000  1025.000000   \n",
              "mean      0.149268     0.529756   149.114146     0.336585     1.071512   \n",
              "std       0.356527     0.527878    23.005724     0.472772     1.175053   \n",
              "min       0.000000     0.000000    71.000000     0.000000     0.000000   \n",
              "25%       0.000000     0.000000   132.000000     0.000000     0.000000   \n",
              "50%       0.000000     1.000000   152.000000     0.000000     0.800000   \n",
              "75%       0.000000     1.000000   166.000000     1.000000     1.800000   \n",
              "max       1.000000     2.000000   202.000000     1.000000     6.200000   \n",
              "\n",
              "             slope           ca         thal       target  \n",
              "count  1025.000000  1025.000000  1025.000000  1025.000000  \n",
              "mean      1.385366     0.754146     2.323902     0.513171  \n",
              "std       0.617755     1.030798     0.620660     0.500070  \n",
              "min       0.000000     0.000000     0.000000     0.000000  \n",
              "25%       1.000000     0.000000     2.000000     0.000000  \n",
              "50%       1.000000     0.000000     2.000000     1.000000  \n",
              "75%       2.000000     1.000000     3.000000     1.000000  \n",
              "max       2.000000     4.000000     3.000000     1.000000  "
            ]
          },
          "execution_count": 8,
          "metadata": {},
          "output_type": "execute_result"
        }
      ],
      "source": [
        "df.describe()"
      ]
    },
    {
      "cell_type": "code",
      "execution_count": 9,
      "metadata": {
        "colab": {
          "base_uri": "https://localhost:8080/"
        },
        "id": "WUppKZbF8kko",
        "outputId": "b79d0521-3ac0-4b43-f677-bbd06b0b37f5"
      },
      "outputs": [
        {
          "data": {
            "text/plain": [
              "target\n",
              "1    526\n",
              "0    499\n",
              "Name: count, dtype: int64"
            ]
          },
          "execution_count": 9,
          "metadata": {},
          "output_type": "execute_result"
        }
      ],
      "source": [
        "\n",
        "df[\"target\"].value_counts()"
      ]
    },
    {
      "cell_type": "code",
      "execution_count": 10,
      "metadata": {
        "id": "I5te10rU8orD"
      },
      "outputs": [],
      "source": [
        "X = df.drop(columns='target',axis=1)\n",
        "Y = df['target']"
      ]
    },
    {
      "cell_type": "code",
      "execution_count": 11,
      "metadata": {
        "colab": {
          "base_uri": "https://localhost:8080/"
        },
        "id": "R9er8yZm8sHM",
        "outputId": "03c9d02b-2c83-4285-ecfc-78c46457ac47"
      },
      "outputs": [
        {
          "name": "stdout",
          "output_type": "stream",
          "text": [
            "      age  sex  cp  trestbps  chol  fbs  restecg  thalach  exang  oldpeak  \\\n",
            "0      52    1   0       125   212    0        1      168      0      1.0   \n",
            "1      53    1   0       140   203    1        0      155      1      3.1   \n",
            "2      70    1   0       145   174    0        1      125      1      2.6   \n",
            "3      61    1   0       148   203    0        1      161      0      0.0   \n",
            "4      62    0   0       138   294    1        1      106      0      1.9   \n",
            "...   ...  ...  ..       ...   ...  ...      ...      ...    ...      ...   \n",
            "1020   59    1   1       140   221    0        1      164      1      0.0   \n",
            "1021   60    1   0       125   258    0        0      141      1      2.8   \n",
            "1022   47    1   0       110   275    0        0      118      1      1.0   \n",
            "1023   50    0   0       110   254    0        0      159      0      0.0   \n",
            "1024   54    1   0       120   188    0        1      113      0      1.4   \n",
            "\n",
            "      slope  ca  thal  \n",
            "0         2   2     3  \n",
            "1         0   0     3  \n",
            "2         0   0     3  \n",
            "3         2   1     3  \n",
            "4         1   3     2  \n",
            "...     ...  ..   ...  \n",
            "1020      2   0     2  \n",
            "1021      1   1     3  \n",
            "1022      1   1     2  \n",
            "1023      2   0     2  \n",
            "1024      1   1     3  \n",
            "\n",
            "[1025 rows x 13 columns]\n"
          ]
        }
      ],
      "source": [
        "print(X)"
      ]
    },
    {
      "cell_type": "code",
      "execution_count": 12,
      "metadata": {
        "colab": {
          "base_uri": "https://localhost:8080/"
        },
        "id": "o-zRfBFw8xRU",
        "outputId": "035c74d2-7025-4c62-b440-3e8ad4852202"
      },
      "outputs": [
        {
          "name": "stdout",
          "output_type": "stream",
          "text": [
            "0       0\n",
            "1       0\n",
            "2       0\n",
            "3       0\n",
            "4       0\n",
            "       ..\n",
            "1020    1\n",
            "1021    0\n",
            "1022    0\n",
            "1023    1\n",
            "1024    0\n",
            "Name: target, Length: 1025, dtype: int64\n"
          ]
        }
      ],
      "source": [
        "print(Y)"
      ]
    },
    {
      "cell_type": "markdown",
      "metadata": {},
      "source": [
        "DATA SPLITTING"
      ]
    },
    {
      "cell_type": "code",
      "execution_count": 13,
      "metadata": {
        "id": "P1dLt9s78y5h"
      },
      "outputs": [],
      "source": [
        "X_train , X_test , Y_train , Y_test = train_test_split ( X , Y , test_size=0.2 , random_state=2 )"
      ]
    },
    {
      "cell_type": "code",
      "execution_count": 14,
      "metadata": {
        "colab": {
          "base_uri": "https://localhost:8080/"
        },
        "id": "DgzyZKaB825S",
        "outputId": "f22cf956-bf63-4891-f550-0b388efbc6e2"
      },
      "outputs": [
        {
          "name": "stdout",
          "output_type": "stream",
          "text": [
            "The dataset has  (1025, 13)  no of rows and columns\n",
            "The training dataset has  (820, 13)  no of rows and columns\n",
            "The testing dataset has  (205, 13)  no of rows and columns\n"
          ]
        }
      ],
      "source": [
        "print(\"The dataset has \",X.shape,\" no of rows and columns\")\n",
        "print(\"The training dataset has \",X_train.shape,\" no of rows and columns\")\n",
        "print(\"The testing dataset has \",X_test.shape,\" no of rows and columns\")"
      ]
    },
    {
      "cell_type": "code",
      "execution_count": 15,
      "metadata": {
        "colab": {
          "base_uri": "https://localhost:8080/"
        },
        "id": "3PCCj4Gl9IpR",
        "outputId": "8f9be59f-7e68-4cb9-8431-e4be66782503"
      },
      "outputs": [
        {
          "name": "stdout",
          "output_type": "stream",
          "text": [
            "The dataset has  (1025,)  no of rows and columns\n",
            "The training dataset has  (820,)  no of rows and columns\n",
            "The testing dataset has  (205,)  no of rows and columns\n"
          ]
        }
      ],
      "source": [
        "print(\"The dataset has \",Y.shape,\" no of rows and columns\")\n",
        "print(\"The training dataset has \",Y_train.shape,\" no of rows and columns\")\n",
        "print(\"The testing dataset has \",Y_test.shape,\" no of rows and columns\")"
      ]
    },
    {
      "cell_type": "markdown",
      "metadata": {},
      "source": [
        "DATA SCALING and PREPROCESSING"
      ]
    },
    {
      "cell_type": "code",
      "execution_count": 16,
      "metadata": {
        "id": "aAAtbk8sEB1i"
      },
      "outputs": [],
      "source": [
        "from sklearn.preprocessing import StandardScaler"
      ]
    },
    {
      "cell_type": "code",
      "execution_count": 17,
      "metadata": {
        "id": "I1RcOXg1EOnI"
      },
      "outputs": [],
      "source": [
        "scaler=StandardScaler()\n",
        "\n",
        "X_train_std=scaler.fit_transform(X_train)\n",
        "\n",
        "X_test_std=scaler.transform(X_test)"
      ]
    },
    {
      "cell_type": "code",
      "execution_count": 18,
      "metadata": {
        "colab": {
          "base_uri": "https://localhost:8080/"
        },
        "id": "vSl5SX_RE5Kl",
        "outputId": "841934f7-86d4-4f68-9c5c-c14c077928d9"
      },
      "outputs": [
        {
          "name": "stdout",
          "output_type": "stream",
          "text": [
            "[[ 0.16856381  0.68138514  0.06823285 ... -2.23202634 -0.72853503\n",
            "  -0.52277804]\n",
            " [-0.27552399  0.68138514  1.04982822 ...  0.98743118  3.12565027\n",
            "  -0.52277804]\n",
            " [-0.16450204  0.68138514  1.04982822 ...  0.98743118  2.16210395\n",
            "  -0.52277804]\n",
            " ...\n",
            " [ 0.05754186  0.68138514 -0.91336252 ... -0.62229758  0.2350113\n",
            "   1.09487477]\n",
            " [ 0.05754186  0.68138514 -0.91336252 ... -0.62229758  0.2350113\n",
            "   1.09487477]\n",
            " [ 0.83469552 -1.46759877 -0.91336252 ...  0.98743118 -0.72853503\n",
            "  -0.52277804]]\n"
          ]
        }
      ],
      "source": [
        "print(X_train_std)"
      ]
    },
    {
      "cell_type": "code",
      "execution_count": 19,
      "metadata": {
        "colab": {
          "base_uri": "https://localhost:8080/"
        },
        "id": "AGChCNivE9ux",
        "outputId": "05576ab8-fae4-42e2-903a-f5fddc248a56"
      },
      "outputs": [
        {
          "name": "stdout",
          "output_type": "stream",
          "text": [
            "[[ 1.72287112  0.68138514 -0.91336252 ... -0.62229758  2.16210395\n",
            "  -0.52277804]\n",
            " [ 0.27958576  0.68138514 -0.91336252 ... -0.62229758 -0.72853503\n",
            "  -2.14043085]\n",
            " [ 0.83469552  0.68138514 -0.91336252 ... -0.62229758  1.19855762\n",
            "   1.09487477]\n",
            " ...\n",
            " [-0.60858984 -1.46759877  0.06823285 ... -0.62229758 -0.72853503\n",
            "  -0.52277804]\n",
            " [-0.38654594  0.68138514  1.04982822 ... -0.62229758 -0.72853503\n",
            "  -0.52277804]\n",
            " [-0.05348009  0.68138514 -0.91336252 ... -0.62229758  0.2350113\n",
            "  -0.52277804]]\n"
          ]
        }
      ],
      "source": [
        "print(X_test_std)"
      ]
    },
    {
      "attachments": {},
      "cell_type": "markdown",
      "metadata": {
        "id": "8FpUSwHj9Whb"
      },
      "source": [
        "BUILDING NEURAL NETWORK"
      ]
    },
    {
      "cell_type": "code",
      "execution_count": 20,
      "metadata": {
        "id": "AsyNdWsO9LcY"
      },
      "outputs": [],
      "source": [
        "#tensorflow is a DL library developed by google\n",
        "import tensorflow as tf\n",
        "tf.random.set_seed(3)\n",
        "from tensorflow import keras"
      ]
    },
    {
      "attachments": {},
      "cell_type": "markdown",
      "metadata": {
        "id": "JOVYAPDxAWS4"
      },
      "source": [
        "DEFINING STRUCTURE OF NEURAL NETWORK"
      ]
    },
    {
      "cell_type": "code",
      "execution_count": 21,
      "metadata": {
        "id": "Hbu_sJko98Qn"
      },
      "outputs": [],
      "source": [
        "model=keras.Sequential([\n",
        "    keras.layers.Flatten(input_shape=(13,)),     #  -> First/Input Layer of Neural Network\n",
        "    keras.layers.Dense(50,activation='relu'),\n",
        "    keras.layers.Dense(50,activation='relu'),\n",
        "    keras.layers.Dense(50,activation='relu'),     #  -> Second/Hidden Layer of Neural Network\n",
        "    keras.layers.Dense(2,activation='sigmoid')   #  -> Third/Output Layer of Neural Network\n",
        "                                                 #  ->The number of neuron in output layer = No of classifier\n",
        "])"
      ]
    },
    {
      "attachments": {},
      "cell_type": "markdown",
      "metadata": {
        "id": "3bLeMRwQAczW",
        "tags": []
      },
      "source": [
        "COMPILING THE NEURAL NETWORK"
      ]
    },
    {
      "cell_type": "code",
      "execution_count": 22,
      "metadata": {
        "id": "yeXzaUoWAtv9"
      },
      "outputs": [],
      "source": [
        "model.compile( optimizer='adam' ,\n",
        "              loss='sparse_categorical_crossentropy',\n",
        "              metrics=['accuracy'])"
      ]
    },
    {
      "attachments": {},
      "cell_type": "markdown",
      "metadata": {
        "id": "yrdm4WdTCcEH"
      },
      "source": [
        "TRAINING THE NEURAL NETWORK MODEL"
      ]
    },
    {
      "cell_type": "code",
      "execution_count": 23,
      "metadata": {
        "colab": {
          "base_uri": "https://localhost:8080/"
        },
        "id": "bDrAp5zwB3OA",
        "outputId": "8ea52cc5-628f-40fe-ab15-21735f072a43"
      },
      "outputs": [
        {
          "name": "stdout",
          "output_type": "stream",
          "text": [
            "Epoch 1/10\n",
            "24/24 [==============================] - 2s 13ms/step - loss: 0.5453 - accuracy: 0.7764 - val_loss: 0.3547 - val_accuracy: 0.8902\n",
            "Epoch 2/10\n",
            "24/24 [==============================] - 0s 5ms/step - loss: 0.3807 - accuracy: 0.8333 - val_loss: 0.2392 - val_accuracy: 0.9390\n",
            "Epoch 3/10\n",
            "24/24 [==============================] - 0s 7ms/step - loss: 0.3320 - accuracy: 0.8523 - val_loss: 0.2297 - val_accuracy: 0.9390\n",
            "Epoch 4/10\n",
            "24/24 [==============================] - 0s 8ms/step - loss: 0.2953 - accuracy: 0.8672 - val_loss: 0.2032 - val_accuracy: 0.9390\n",
            "Epoch 5/10\n",
            "24/24 [==============================] - 0s 8ms/step - loss: 0.2624 - accuracy: 0.8930 - val_loss: 0.1865 - val_accuracy: 0.9390\n",
            "Epoch 6/10\n",
            "24/24 [==============================] - 0s 9ms/step - loss: 0.2348 - accuracy: 0.9024 - val_loss: 0.1804 - val_accuracy: 0.9390\n",
            "Epoch 7/10\n",
            "24/24 [==============================] - 0s 9ms/step - loss: 0.2068 - accuracy: 0.9282 - val_loss: 0.1437 - val_accuracy: 0.9512\n",
            "Epoch 8/10\n",
            "24/24 [==============================] - 0s 6ms/step - loss: 0.1852 - accuracy: 0.9322 - val_loss: 0.1293 - val_accuracy: 0.9756\n",
            "Epoch 9/10\n",
            "24/24 [==============================] - 0s 8ms/step - loss: 0.1542 - accuracy: 0.9499 - val_loss: 0.1123 - val_accuracy: 0.9878\n",
            "Epoch 10/10\n",
            "24/24 [==============================] - 0s 6ms/step - loss: 0.1325 - accuracy: 0.9634 - val_loss: 0.0986 - val_accuracy: 0.9878\n"
          ]
        }
      ],
      "source": [
        "history=model.fit(X_train_std,Y_train,validation_split=0.1,epochs=10)"
      ]
    },
    {
      "attachments": {},
      "cell_type": "markdown",
      "metadata": {
        "id": "BJAEA6toFrv0"
      },
      "source": [
        "VISUALIZING ACCURACY AND LOSS"
      ]
    },
    {
      "cell_type": "code",
      "execution_count": 24,
      "metadata": {
        "colab": {
          "base_uri": "https://localhost:8080/",
          "height": 489
        },
        "id": "K6wmrQmPFrF1",
        "outputId": "cbce3f26-0059-4d8d-fb32-816c266ce830"
      },
      "outputs": [
        {
          "data": {
            "text/plain": [
              "<matplotlib.legend.Legend at 0x1721706a950>"
            ]
          },
          "execution_count": 24,
          "metadata": {},
          "output_type": "execute_result"
        },
        {
          "data": {
            "image/png": "[encoded data removed]",
            "text/plain": [
              "<Figure size 640x480 with 1 Axes>"
            ]
          },
          "metadata": {},
          "output_type": "display_data"
        }
      ],
      "source": [
        "plt.plot(history.history['accuracy'])\n",
        "plt.plot(history.history['val_accuracy'])\n",
        "plt.title('Model Accuracy')\n",
        "plt.ylabel('Accuracy')\n",
        "plt.xlabel('epoch')\n",
        "\n",
        "plt.legend(['Training Data', 'Validation Data'],loc='lower right')"
      ]
    },
    {
      "cell_type": "code",
      "execution_count": 25,
      "metadata": {
        "colab": {
          "base_uri": "https://localhost:8080/",
          "height": 489
        },
        "id": "Hr5Au9r0ItSa",
        "outputId": "25146011-511b-4a1c-ebe4-f6ae295fa61d"
      },
      "outputs": [
        {
          "data": {
            "text/plain": [
              "<matplotlib.legend.Legend at 0x17215df81d0>"
            ]
          },
          "execution_count": 25,
          "metadata": {},
          "output_type": "execute_result"
        },
        {
          "data": {
            "image/png": "[encoded data removed]",
            "text/plain": [
              "<Figure size 640x480 with 1 Axes>"
            ]
          },
          "metadata": {},
          "output_type": "display_data"
        }
      ],
      "source": [
        "plt.plot(history.history['loss'])\n",
        "plt.plot(history.history['val_loss'])\n",
        "\n",
        "plt.title('Model Loss')\n",
        "plt.ylabel('Loss')\n",
        "plt.xlabel('epoch')\n",
        "\n",
        "plt.legend(['Training Data', 'Validation Data'],loc='upper right')"
      ]
    },
    {
      "cell_type": "code",
      "execution_count": 26,
      "metadata": {
        "colab": {
          "base_uri": "https://localhost:8080/"
        },
        "id": "NMFkV-cPNroE",
        "outputId": "5f7c8d4e-1fe6-48e3-8417-e0b10f5cda49"
      },
      "outputs": [
        {
          "name": "stdout",
          "output_type": "stream",
          "text": [
            "7/7 [==============================] - 0s 1ms/step - loss: 0.1380 - accuracy: 0.9854\n",
            "0.9853658676147461\n",
            "The Accuracy of our model is :  98.53658676147461 %\n"
          ]
        }
      ],
      "source": [
        "loss,accuracy=model.evaluate(X_test_std,Y_test)\n",
        "print(accuracy)\n",
        "print(\"The Accuracy of our model is : \",accuracy*100,\"%\")"
      ]
    },
    {
      "cell_type": "code",
      "execution_count": 27,
      "metadata": {
        "colab": {
          "base_uri": "https://localhost:8080/"
        },
        "id": "TAZfeY_SOK6f",
        "outputId": "2b48ab8f-a3b1-4987-94a8-caa4c3fb7270"
      },
      "outputs": [
        {
          "name": "stdout",
          "output_type": "stream",
          "text": [
            "(205, 13)\n"
          ]
        }
      ],
      "source": [
        "print(X_test_std.shape)"
      ]
    },
    {
      "cell_type": "code",
      "execution_count": 28,
      "metadata": {
        "colab": {
          "base_uri": "https://localhost:8080/"
        },
        "id": "KuK3NNauOZnh",
        "outputId": "1fbee5fc-d6af-4905-973d-c22e2315c559"
      },
      "outputs": [
        {
          "name": "stdout",
          "output_type": "stream",
          "text": [
            "[ 1.72287112  0.68138514 -0.91336252 -0.08491216  1.51940083 -0.41201637\n",
            " -1.02383022 -1.72094573 -0.70258435  1.10703632 -0.62229758  2.16210395\n",
            " -0.52277804]\n"
          ]
        }
      ],
      "source": [
        "print(X_test_std[0])"
      ]
    },
    {
      "cell_type": "code",
      "execution_count": 29,
      "metadata": {
        "colab": {
          "base_uri": "https://localhost:8080/"
        },
        "id": "ia3rAGR9OeEb",
        "outputId": "17f26d50-5046-4a5d-ccd6-b55f99199017"
      },
      "outputs": [
        {
          "name": "stdout",
          "output_type": "stream",
          "text": [
            "7/7 [==============================] - 0s 3ms/step\n"
          ]
        }
      ],
      "source": [
        "Y_pred =model.predict(X_test_std)"
      ]
    },
    {
      "cell_type": "code",
      "execution_count": 30,
      "metadata": {
        "colab": {
          "base_uri": "https://localhost:8080/"
        },
        "id": "0QNQFcblPWiS",
        "outputId": "7184dfe3-5efe-453c-9f8f-500d42d451b9"
      },
      "outputs": [
        {
          "name": "stdout",
          "output_type": "stream",
          "text": [
            "(205, 2)\n"
          ]
        }
      ],
      "source": [
        "print(Y_pred.shape)"
      ]
    },
    {
      "cell_type": "code",
      "execution_count": 31,
      "metadata": {
        "colab": {
          "base_uri": "https://localhost:8080/"
        },
        "id": "jIzfShfcParf",
        "outputId": "8fde7eba-6653-446c-c9e0-36fbefa29997"
      },
      "outputs": [
        {
          "name": "stdout",
          "output_type": "stream",
          "text": [
            "[[ 1.72287112  0.68138514 -0.91336252 ... -0.62229758  2.16210395\n",
            "  -0.52277804]\n",
            " [ 0.27958576  0.68138514 -0.91336252 ... -0.62229758 -0.72853503\n",
            "  -2.14043085]\n",
            " [ 0.83469552  0.68138514 -0.91336252 ... -0.62229758  1.19855762\n",
            "   1.09487477]\n",
            " ...\n",
            " [-0.60858984 -1.46759877  0.06823285 ... -0.62229758 -0.72853503\n",
            "  -0.52277804]\n",
            " [-0.38654594  0.68138514  1.04982822 ... -0.62229758 -0.72853503\n",
            "  -0.52277804]\n",
            " [-0.05348009  0.68138514 -0.91336252 ... -0.62229758  0.2350113\n",
            "  -0.52277804]]\n"
          ]
        }
      ],
      "source": [
        "print(X_test_std)"
      ]
    },
    {
      "cell_type": "code",
      "execution_count": 32,
      "metadata": {
        "colab": {
          "base_uri": "https://localhost:8080/"
        },
        "id": "sayal62YPizN",
        "outputId": "1aa6066e-2a96-4418-ff15-25c0244f0c11"
      },
      "outputs": [
        {
          "name": "stdout",
          "output_type": "stream",
          "text": [
            "[[9.54298615e-01 1.50868505e-01]\n",
            " [3.33036155e-01 8.07680845e-01]\n",
            " [9.60029483e-01 3.88456061e-02]\n",
            " [9.54298615e-01 1.50868505e-01]\n",
            " [1.82159215e-01 9.94816065e-01]\n",
            " [2.35931665e-01 9.37232256e-01]\n",
            " [9.57823098e-01 1.09601542e-01]\n",
            " [9.59046841e-01 5.04719242e-02]\n",
            " [7.92708457e-01 2.91144639e-01]\n",
            " [3.57731491e-01 9.21702802e-01]\n",
            " [3.48788738e-01 9.01016355e-01]\n",
            " [8.85903656e-01 2.13874042e-01]\n",
            " [6.87573135e-01 3.88409138e-01]\n",
            " [4.48335618e-01 7.29522586e-01]\n",
            " [3.09729636e-01 9.55985963e-01]\n",
            " [3.90281290e-01 9.24043238e-01]\n",
            " [2.35527381e-01 9.75162566e-01]\n",
            " [7.47170806e-01 1.79995149e-01]\n",
            " [8.92786980e-02 9.98168588e-01]\n",
            " [5.57959735e-01 7.90628016e-01]\n",
            " [7.37946987e-01 8.40668917e-01]\n",
            " [9.74253863e-02 9.98923123e-01]\n",
            " [2.98833609e-01 9.30218279e-01]\n",
            " [9.01582658e-01 8.32607448e-02]\n",
            " [9.73793864e-01 5.44773936e-02]\n",
            " [8.04886043e-01 4.54546005e-01]\n",
            " [9.96096969e-01 4.19859402e-03]\n",
            " [5.54214716e-01 6.88890934e-01]\n",
            " [9.82894599e-01 2.24828087e-02]\n",
            " [6.57284021e-01 4.59613204e-01]\n",
            " [9.80845988e-01 3.66950445e-02]\n",
            " [8.86065900e-01 1.59861013e-01]\n",
            " [6.40064836e-01 9.26421583e-01]\n",
            " [9.59442198e-01 4.44335267e-02]\n",
            " [7.93515623e-01 6.61698520e-01]\n",
            " [8.57054591e-02 9.98882532e-01]\n",
            " [5.30499041e-01 6.86130881e-01]\n",
            " [3.73346657e-01 8.53610277e-01]\n",
            " [3.31080049e-01 9.27087843e-01]\n",
            " [3.13562661e-01 8.60335767e-01]\n",
            " [3.60778868e-01 9.25440848e-01]\n",
            " [9.85713661e-01 1.77603066e-02]\n",
            " [6.54833555e-01 3.90433371e-01]\n",
            " [4.60024923e-01 7.32656181e-01]\n",
            " [9.86343026e-01 2.24901661e-02]\n",
            " [2.72411376e-01 9.76866066e-01]\n",
            " [3.06783438e-01 9.36742067e-01]\n",
            " [3.59492123e-01 8.77582312e-01]\n",
            " [2.05130354e-01 9.40346003e-01]\n",
            " [7.87003338e-01 3.15249801e-01]\n",
            " [4.60024923e-01 7.32656181e-01]\n",
            " [7.69970000e-01 2.17096016e-01]\n",
            " [9.45866108e-01 1.02054402e-01]\n",
            " [9.42748904e-01 8.89742002e-02]\n",
            " [6.97800279e-01 3.40751082e-01]\n",
            " [2.56495804e-01 9.75497007e-01]\n",
            " [5.82204759e-01 6.72813773e-01]\n",
            " [2.95037597e-01 9.36721325e-01]\n",
            " [6.87573135e-01 3.88409138e-01]\n",
            " [3.11488986e-01 9.05054331e-01]\n",
            " [5.79703569e-01 8.13994586e-01]\n",
            " [9.83500481e-01 4.01760414e-02]\n",
            " [5.20194709e-01 8.62153828e-01]\n",
            " [3.66704375e-01 9.49122310e-01]\n",
            " [6.86638772e-01 5.05279243e-01]\n",
            " [8.36187899e-01 2.26455167e-01]\n",
            " [4.41613674e-01 7.17880428e-01]\n",
            " [4.53803033e-01 5.81393480e-01]\n",
            " [9.37404811e-01 8.76927674e-02]\n",
            " [2.34672055e-01 9.53080058e-01]\n",
            " [1.72285169e-01 9.86598372e-01]\n",
            " [9.41274643e-01 6.30640835e-02]\n",
            " [7.47170806e-01 1.79995149e-01]\n",
            " [1.38378322e-01 9.91364419e-01]\n",
            " [1.07452720e-01 9.98936355e-01]\n",
            " [3.44716549e-01 8.45032036e-01]\n",
            " [5.67650080e-01 4.76318061e-01]\n",
            " [6.83286130e-01 4.42216635e-01]\n",
            " [9.15288687e-01 1.07945837e-01]\n",
            " [9.99760985e-01 4.34800400e-04]\n",
            " [9.66054440e-01 3.28994058e-02]\n",
            " [9.76748884e-01 3.78421508e-02]\n",
            " [1.85566545e-01 9.87088740e-01]\n",
            " [9.37404811e-01 8.76927674e-02]\n",
            " [8.45754504e-01 4.77284431e-01]\n",
            " [2.67801881e-01 9.72811699e-01]\n",
            " [6.83286130e-01 4.42216635e-01]\n",
            " [6.57284021e-01 4.59613204e-01]\n",
            " [4.71646011e-01 6.19626224e-01]\n",
            " [2.67342091e-01 9.66997087e-01]\n",
            " [4.53803033e-01 5.81393480e-01]\n",
            " [9.86640692e-01 2.09846906e-02]\n",
            " [2.81831533e-01 9.20380354e-01]\n",
            " [9.88524616e-01 2.08350532e-02]\n",
            " [9.01308656e-02 9.99034405e-01]\n",
            " [8.92786980e-02 9.98168588e-01]\n",
            " [4.36766416e-01 8.96103621e-01]\n",
            " [9.76356983e-01 3.32779139e-02]\n",
            " [2.95037597e-01 9.36721325e-01]\n",
            " [9.66340542e-01 6.01562485e-02]\n",
            " [8.57054591e-02 9.98882532e-01]\n",
            " [6.97800279e-01 3.40751082e-01]\n",
            " [4.52112526e-01 8.71954143e-01]\n",
            " [3.21182787e-01 9.14834321e-01]\n",
            " [6.28092170e-01 6.44778550e-01]\n",
            " [2.48546198e-01 9.15004671e-01]\n",
            " [1.29184470e-01 9.94930685e-01]\n",
            " [2.56495804e-01 9.75497007e-01]\n",
            " [1.97104037e-01 9.85692024e-01]\n",
            " [2.04887539e-01 9.63376522e-01]\n",
            " [8.75863552e-01 3.16169202e-01]\n",
            " [5.43004930e-01 6.09030485e-01]\n",
            " [7.69970000e-01 2.17096016e-01]\n",
            " [9.92728591e-01 8.50010756e-03]\n",
            " [9.93744195e-01 8.76556337e-03]\n",
            " [8.26457858e-01 2.43648767e-01]\n",
            " [8.04886043e-01 4.54546005e-01]\n",
            " [8.60147357e-01 1.46886110e-01]\n",
            " [9.27654505e-01 8.97857323e-02]\n",
            " [8.45754504e-01 4.77284431e-01]\n",
            " [3.36059123e-01 8.63352776e-01]\n",
            " [6.32443309e-01 4.57116187e-01]\n",
            " [7.37946987e-01 8.40668917e-01]\n",
            " [3.48788738e-01 9.01016355e-01]\n",
            " [1.72285169e-01 9.86598372e-01]\n",
            " [6.32443309e-01 4.57116187e-01]\n",
            " [8.84630442e-01 3.10361177e-01]\n",
            " [2.94724524e-01 8.35376680e-01]\n",
            " [7.93515623e-01 6.61698520e-01]\n",
            " [7.33815134e-01 6.27296507e-01]\n",
            " [4.72138286e-01 6.59279108e-01]\n",
            " [8.90421093e-01 3.43688488e-01]\n",
            " [2.76443183e-01 9.54856396e-01]\n",
            " [7.82571197e-01 2.84380347e-01]\n",
            " [3.86816680e-01 7.71418810e-01]\n",
            " [5.57959735e-01 7.90628016e-01]\n",
            " [3.66704375e-01 9.49122310e-01]\n",
            " [6.30784452e-01 3.30664277e-01]\n",
            " [5.30491650e-01 7.65514851e-01]\n",
            " [9.07579005e-01 1.69010386e-01]\n",
            " [3.48788738e-01 9.01016355e-01]\n",
            " [8.38609040e-01 2.40505874e-01]\n",
            " [6.97861135e-01 4.66100544e-01]\n",
            " [3.00516576e-01 9.73965645e-01]\n",
            " [1.97104037e-01 9.85692024e-01]\n",
            " [7.33815134e-01 6.27296507e-01]\n",
            " [3.02146167e-01 9.41845775e-01]\n",
            " [9.96246755e-01 3.58181889e-03]\n",
            " [8.96038830e-01 1.21518582e-01]\n",
            " [8.26457858e-01 2.43648767e-01]\n",
            " [9.17964399e-01 1.28689274e-01]\n",
            " [5.31578898e-01 6.59528136e-01]\n",
            " [9.83345568e-01 2.71042380e-02]\n",
            " [6.40064836e-01 9.26421583e-01]\n",
            " [2.90397465e-01 9.50161159e-01]\n",
            " [3.74662489e-01 7.75251448e-01]\n",
            " [7.92708457e-01 2.91144639e-01]\n",
            " [5.31018972e-01 8.48312020e-01]\n",
            " [9.12491441e-01 1.11065760e-01]\n",
            " [9.93744195e-01 8.76556337e-03]\n",
            " [9.08677042e-01 3.39550734e-01]\n",
            " [3.21182787e-01 9.14834321e-01]\n",
            " [4.48335618e-01 7.29522586e-01]\n",
            " [2.62835562e-01 9.54022229e-01]\n",
            " [9.90914762e-01 1.04292206e-01]\n",
            " [7.72107363e-01 2.84207702e-01]\n",
            " [1.79316625e-01 9.80126917e-01]\n",
            " [9.97203827e-01 1.48210749e-02]\n",
            " [9.01308656e-02 9.99034405e-01]\n",
            " [9.37868595e-01 9.90093350e-02]\n",
            " [5.82204759e-01 6.72813773e-01]\n",
            " [9.17964399e-01 1.28689274e-01]\n",
            " [4.52112526e-01 8.71954143e-01]\n",
            " [9.60029483e-01 3.88456061e-02]\n",
            " [9.66340542e-01 6.01562485e-02]\n",
            " [7.82604635e-01 3.84038717e-01]\n",
            " [2.08917573e-01 9.45773304e-01]\n",
            " [9.85713661e-01 1.77603066e-02]\n",
            " [7.76321530e-01 3.63506436e-01]\n",
            " [8.57054591e-02 9.98882532e-01]\n",
            " [2.26190150e-01 9.69335079e-01]\n",
            " [4.62552577e-01 7.97345698e-01]\n",
            " [3.87615204e-01 8.37605357e-01]\n",
            " [3.36059123e-01 8.63352776e-01]\n",
            " [6.87573135e-01 3.88409138e-01]\n",
            " [9.24580336e-01 7.63131827e-02]\n",
            " [6.35866761e-01 3.72459233e-01]\n",
            " [3.74749571e-01 8.92103553e-01]\n",
            " [4.24966335e-01 7.72888482e-01]\n",
            " [9.89197850e-01 1.73566230e-02]\n",
            " [7.21502721e-01 5.53215623e-01]\n",
            " [9.97203827e-01 1.48210749e-02]\n",
            " [5.00702739e-01 5.87006211e-01]\n",
            " [9.15082872e-01 1.03029408e-01]\n",
            " [2.90397465e-01 9.50161159e-01]\n",
            " [9.92358387e-01 9.14319512e-03]\n",
            " [9.94308949e-01 9.80434474e-03]\n",
            " [9.37868595e-01 9.90093350e-02]\n",
            " [7.92708457e-01 2.91144639e-01]\n",
            " [9.45091784e-01 1.16810836e-01]\n",
            " [3.74749571e-01 8.92103553e-01]\n",
            " [5.00702739e-01 5.87006211e-01]\n",
            " [2.00751498e-01 9.74951088e-01]\n",
            " [3.85955453e-01 9.18123126e-01]\n",
            " [7.92708457e-01 2.91144639e-01]]\n"
          ]
        }
      ],
      "source": [
        "print(Y_pred)"
      ]
    },
    {
      "attachments": {},
      "cell_type": "markdown",
      "metadata": {
        "id": "CNNph8v5StX-"
      },
      "source": [
        "COVERTING THE PREDICTION PROBABILITY OF EACH CLASS"
      ]
    },
    {
      "cell_type": "code",
      "execution_count": 33,
      "metadata": {
        "id": "l1INjiedPmyJ"
      },
      "outputs": [],
      "source": [
        "Y_pred_labels=[np.argmax(i) for i in Y_pred]  # -> argmax fuction gives the index of maximum value in a list"
      ]
    },
    {
      "cell_type": "code",
      "execution_count": 34,
      "metadata": {
        "colab": {
          "base_uri": "https://localhost:8080/"
        },
        "id": "FN3sMkaWTNeE",
        "outputId": "84fbfc76-5b74-4ac4-8e22-09f09ceb5cf5"
      },
      "outputs": [
        {
          "name": "stdout",
          "output_type": "stream",
          "text": [
            "[0, 1, 0, 0, 1, 1, 0, 0, 0, 1, 1, 0, 0, 1, 1, 1, 1, 0, 1, 1, 1, 1, 1, 0, 0, 0, 0, 1, 0, 0, 0, 0, 1, 0, 0, 1, 1, 1, 1, 1, 1, 0, 0, 1, 0, 1, 1, 1, 1, 0, 1, 0, 0, 0, 0, 1, 1, 1, 0, 1, 1, 0, 1, 1, 0, 0, 1, 1, 0, 1, 1, 0, 0, 1, 1, 1, 0, 0, 0, 0, 0, 0, 1, 0, 0, 1, 0, 0, 1, 1, 1, 0, 1, 0, 1, 1, 1, 0, 1, 0, 1, 0, 1, 1, 1, 1, 1, 1, 1, 1, 0, 1, 0, 0, 0, 0, 0, 0, 0, 0, 1, 0, 1, 1, 1, 0, 0, 1, 0, 0, 1, 0, 1, 0, 1, 1, 1, 0, 1, 0, 1, 0, 0, 1, 1, 0, 1, 0, 0, 0, 0, 1, 0, 1, 1, 1, 0, 1, 0, 0, 0, 1, 1, 1, 0, 0, 1, 0, 1, 0, 1, 0, 1, 0, 0, 0, 1, 0, 0, 1, 1, 1, 1, 1, 0, 0, 0, 1, 1, 0, 0, 0, 1, 0, 1, 0, 0, 0, 0, 0, 1, 1, 1, 1, 0]\n"
          ]
        }
      ],
      "source": [
        "print(Y_pred_labels)"
      ]
    },
    {
      "attachments": {},
      "cell_type": "markdown",
      "metadata": {
        "id": "rTUIQIFYTUCl"
      },
      "source": [
        "Predictive System"
      ]
    },
    {
      "cell_type": "code",
      "execution_count": 35,
      "metadata": {
        "colab": {
          "base_uri": "https://localhost:8080/"
        },
        "id": "kwStfA4sTP-m",
        "outputId": "0b68af1d-44ac-40d0-8b94-33398d4c238f"
      },
      "outputs": [
        {
          "name": "stdout",
          "output_type": "stream",
          "text": [
            "1/1 [==============================] - 0s 33ms/step\n",
            "[[0.90867704 0.33955076]]\n",
            "[0]\n",
            "Person does not have heart disease\n"
          ]
        },
        {
          "name": "stderr",
          "output_type": "stream",
          "text": [
            "c:\\Users\\Sohard\\AppData\\Local\\Programs\\Python\\Python311\\Lib\\site-packages\\sklearn\\base.py:464: UserWarning: X does not have valid feature names, but StandardScaler was fitted with feature names\n",
            "  warnings.warn(\n"
          ]
        }
      ],
      "source": [
        "input=(52,1,0,128,204,1,1,156,1,1,1,0,0)\n",
        "\n",
        "#change the input tuple to numpy array\n",
        "\n",
        "input_numpy=np.asarray(input)\n",
        "\n",
        "#reshaping the array so as to predict for one data point\n",
        "\n",
        "input_reshaped=input_numpy.reshape(1,-1)\n",
        "\n",
        "#standardizing the input data\n",
        "\n",
        "input_std=scaler.transform(input_reshaped)\n",
        "\n",
        "\n",
        "prediction = model.predict(input_std)\n",
        "\n",
        "print(prediction)\n",
        "\n",
        "prediction_label=[np.argmax(prediction)]\n",
        "print(prediction_label)\n",
        "\n",
        "\n",
        "if(prediction_label[0]==0):\n",
        "  print(\"Person does not have heart disease\")\n",
        "else:\n",
        "  print(\"Person has heart disease\")\n",
        "\n"
      ]
    }
  ],
  "metadata": {
    "colab": {
      "provenance": []
    },
    "kernelspec": {
      "display_name": "Python 3",
      "name": "python3"
    },
    "language_info": {
      "codemirror_mode": {
        "name": "ipython",
        "version": 3
      },
      "file_extension": ".py",
      "mimetype": "text/x-python",
      "name": "python",
      "nbconvert_exporter": "python",
      "pygments_lexer": "ipython3",
      "version": "3.11.4"
    }
  },
  "nbformat": 4,
  "nbformat_minor": 0
}
